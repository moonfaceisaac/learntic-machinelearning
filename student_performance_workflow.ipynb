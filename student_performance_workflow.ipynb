{
 "cells": [
  {
   "cell_type": "markdown",
   "id": "1f7ea603",
   "metadata": {},
   "source": [
    "## Import Library"
   ]
  },
  {
   "cell_type": "code",
   "execution_count": 3,
   "id": "30bd7723",
   "metadata": {},
   "outputs": [],
   "source": [
    "import pandas as pd\n",
    "import numpy as np"
   ]
  },
  {
   "cell_type": "markdown",
   "id": "cee96d99",
   "metadata": {},
   "source": [
    "## Making Dummy Data"
   ]
  },
  {
   "cell_type": "code",
   "execution_count": 4,
   "id": "7be79ed4",
   "metadata": {},
   "outputs": [
    {
     "name": "stdout",
     "output_type": "stream",
     "text": [
      "   Pendidikan Agama  Pendidikan Pancasila  Bahasa Inggris  Bahasa Mandarin  \\\n",
      "0         69.480348             67.106739       62.781723        59.248887   \n",
      "1         56.051588             56.889249       57.706942        61.429508   \n",
      "2         65.234558             66.474422       60.822510        71.108377   \n",
      "3         74.997851             74.515606       64.487336        69.594167   \n",
      "4         57.017028             53.230884       52.355826        64.633367   \n",
      "\n",
      "   Matematika (Umum)    Biologi     Fisika      Kimia   Geografi    Sejarah  \\\n",
      "0          65.974687  64.450998  66.959537  65.659430  67.731334  59.807395   \n",
      "1          61.922856  56.440178  59.186906  70.020030  67.946394  61.490297   \n",
      "2          57.109614  55.916568  64.360702  68.473934  71.658081  60.944021   \n",
      "3          70.085300  68.918518  64.863624  64.257032  67.487379  73.478794   \n",
      "4          56.490727  60.561753  58.594630  61.214437  59.213343  52.414272   \n",
      "\n",
      "   ...  Kimia (Next Sem)  Geografi (Next Sem)  Sejarah (Next Sem)  \\\n",
      "0  ...                71                   71                  59   \n",
      "1  ...                77                   72                  64   \n",
      "2  ...                75                   81                  61   \n",
      "3  ...                72                   73                  80   \n",
      "4  ...                67                   68                  61   \n",
      "\n",
      "   Sosiologi (Next Sem)  Ekonomi (Next Sem)  \\\n",
      "0                    84                  64   \n",
      "1                    60                  60   \n",
      "2                    72                  73   \n",
      "3                    74                  69   \n",
      "4                    69                  60   \n",
      "\n",
      "   Pendidikan Jasmani, Olahraga, dan Kesehatan (Next Sem)  \\\n",
      "0                                                 77        \n",
      "1                                                 60        \n",
      "2                                                 69        \n",
      "3                                                 74        \n",
      "4                                                 56        \n",
      "\n",
      "   Informatika (Next Sem)  Seni Musik (Next Sem)  Bahasa Indonesia (Next Sem)  \\\n",
      "0                      64                     74                           68   \n",
      "1                      59                     55                           52   \n",
      "2                      74                     74                           63   \n",
      "3                      61                     79                           65   \n",
      "4                      66                     66                           65   \n",
      "\n",
      "   Rata-rata (Next Sem)  \n",
      "0                 69.88  \n",
      "1                 63.12  \n",
      "2                 70.56  \n",
      "3                 72.81  \n",
      "4                 63.12  \n",
      "\n",
      "[5 rows x 34 columns]\n"
     ]
    }
   ],
   "source": [
    "np.random.seed(42)\n",
    "\n",
    "# daftar subjek\n",
    "subjects = [\n",
    "    \"Pendidikan Agama\", \"Pendidikan Pancasila\", \"Bahasa Inggris\", \"Bahasa Mandarin\",\n",
    "    \"Matematika (Umum)\", \"Biologi\", \"Fisika\", \"Kimia\", \"Geografi\", \"Sejarah\",\n",
    "    \"Sosiologi\", \"Ekonomi\", \"Pendidikan Jasmani, Olahraga, dan Kesehatan\",\n",
    "    \"Informatika\", \"Seni Musik\", \"Bahasa Indonesia\"\n",
    "]\n",
    "\n",
    "# students yang bakal di generate\n",
    "n_students = 1000\n",
    "\n",
    "# Simulasi semester sekarang\n",
    "low_count = int(0.2 * n_students)\n",
    "mid_count = int(0.5 * n_students)\n",
    "high_count = n_students - low_count - mid_count\n",
    "\n",
    "low_avg = np.random.normal(loc=60, scale=5, size=low_count)\n",
    "mid_avg = np.random.normal(loc=75, scale=5, size=mid_count)\n",
    "high_avg = np.random.normal(loc=90, scale=5, size=high_count)\n",
    "\n",
    "base_averages = np.concatenate([low_avg, mid_avg, high_avg])\n",
    "base_averages = np.clip(base_averages, 0, 100)\n",
    "\n",
    "# Simulasi skor subjek per murid\n",
    "grades_current = np.array([\n",
    "    base + np.random.normal(loc=0, scale=5, size=len(subjects))\n",
    "    for base in base_averages\n",
    "])\n",
    "grades_current = np.clip(grades_current, 0, 100)\n",
    "\n",
    "# dataframe\n",
    "df = pd.DataFrame(grades_current, columns=subjects)\n",
    "df['Rata-rata'] = df.mean(axis=1)\n",
    "\n",
    "# Mask\n",
    "low_mask = df['Rata-rata'] < 70\n",
    "mid_mask = (df['Rata-rata'] >= 70) & (df['Rata-rata'] < 85)\n",
    "high_mask = df['Rata-rata'] >= 85\n",
    "\n",
    "\n",
    "df_next_sem = df[subjects].copy()\n",
    "\n",
    "def add_noise(data, loc=0, scale=5):\n",
    "    return np.clip(data + np.random.normal(loc=loc, scale=scale, size=data.shape), 0, 100)\n",
    "\n",
    "# Low performers\n",
    "indices = df[low_mask].index.to_numpy()\n",
    "np.random.shuffle(indices)\n",
    "n = len(indices)\n",
    "df_next_sem.loc[indices[:int(0.7 * n)]] = add_noise(df_next_sem.loc[indices[:int(0.7 * n)]], loc=5, scale=4)\n",
    "df_next_sem.loc[indices[int(0.7 * n):int(0.9 * n)]] = add_noise(df_next_sem.loc[indices[int(0.7 * n):int(0.9 * n)]], loc=0, scale=3)\n",
    "df_next_sem.loc[indices[int(0.9 * n):]] = add_noise(df_next_sem.loc[indices[int(0.9 * n):]], loc=15, scale=5)\n",
    "\n",
    "# Mid performers\n",
    "indices = df[mid_mask].index.to_numpy()\n",
    "np.random.shuffle(indices)\n",
    "n = len(indices)\n",
    "df_next_sem.loc[indices[:int(0.6 * n)]] = add_noise(df_next_sem.loc[indices[:int(0.6 * n)]], loc=0, scale=3)\n",
    "df_next_sem.loc[indices[int(0.6 * n):int(0.9 * n)]] = add_noise(df_next_sem.loc[indices[int(0.6 * n):int(0.9 * n)]], loc=5, scale=4)\n",
    "df_next_sem.loc[indices[int(0.9 * n):]] = add_noise(df_next_sem.loc[indices[int(0.9 * n):]], loc=-7, scale=5)\n",
    "\n",
    "# High performers\n",
    "indices = df[high_mask].index.to_numpy()\n",
    "np.random.shuffle(indices)\n",
    "n = len(indices)\n",
    "df_next_sem.loc[indices[:int(0.8 * n)]] = add_noise(df_next_sem.loc[indices[:int(0.8 * n)]], loc=-3, scale=3)\n",
    "df_next_sem.loc[indices[int(0.8 * n):]] = add_noise(df_next_sem.loc[indices[int(0.8 * n):]], loc=0, scale=2)\n",
    "\n",
    "# pembulatan dan pergantian nama df\n",
    "df_next_sem = df_next_sem.round().astype(int)\n",
    "df_next_sem.columns = [col + \" (Next Sem)\" for col in df_next_sem.columns]\n",
    "\n",
    "# kombinasi\n",
    "df_final = pd.concat([df, df_next_sem], axis=1)\n",
    "df_final['Rata-rata (Next Sem)'] = df_next_sem.mean(axis=1).round(2)\n",
    "\n",
    "\n",
    "print(df_final.head())"
   ]
  },
  {
   "cell_type": "code",
   "execution_count": 5,
   "id": "b13bc0b9",
   "metadata": {},
   "outputs": [],
   "source": [
    "df_final.to_csv('daftar_nilai_revised.csv', index=False)"
   ]
  },
  {
   "cell_type": "markdown",
   "id": "e99db250",
   "metadata": {},
   "source": [
    "## Tambah Kasus yang bervariasi\n",
    "_Tambah siswa dengan nilai sangat rendah,etc."
   ]
  },
  {
   "cell_type": "code",
   "execution_count": null,
   "id": "671caff6",
   "metadata": {},
   "outputs": [],
   "source": []
  },
  {
   "cell_type": "markdown",
   "id": "79f06a7d",
   "metadata": {},
   "source": [
    "## Tambah Kolom Absensi"
   ]
  },
  {
   "cell_type": "code",
   "execution_count": null,
   "id": "9ce97ac6",
   "metadata": {},
   "outputs": [],
   "source": []
  },
  {
   "cell_type": "markdown",
   "id": "cdf6e5b3",
   "metadata": {},
   "source": [
    "## Hapus Kolom Tidak Digunakan"
   ]
  },
  {
   "cell_type": "code",
   "execution_count": null,
   "id": "22c245ad",
   "metadata": {},
   "outputs": [],
   "source": []
  },
  {
   "cell_type": "markdown",
   "id": "2768c2a1",
   "metadata": {},
   "source": [
    "## Splitting Data"
   ]
  },
  {
   "cell_type": "code",
   "execution_count": null,
   "id": "945018f0",
   "metadata": {},
   "outputs": [],
   "source": []
  },
  {
   "cell_type": "markdown",
   "id": "5773168a",
   "metadata": {},
   "source": [
    "# 🧠 Feature Engineering"
   ]
  },
  {
   "cell_type": "markdown",
   "id": "8a25e201",
   "metadata": {},
   "source": [
    "## Hitung Nilai Rata-rata per Siswa"
   ]
  },
  {
   "cell_type": "code",
   "execution_count": null,
   "id": "3d7912c6",
   "metadata": {},
   "outputs": [],
   "source": []
  },
  {
   "cell_type": "markdown",
   "id": "908d9e76",
   "metadata": {},
   "source": [
    "## Normalisasi Nilai"
   ]
  },
  {
   "cell_type": "code",
   "execution_count": null,
   "id": "3a230ec4",
   "metadata": {},
   "outputs": [],
   "source": []
  },
  {
   "cell_type": "markdown",
   "id": "162b8971",
   "metadata": {},
   "source": [
    "## Tambah Fitur Tren Peningkatan/Penurunan Nilai"
   ]
  },
  {
   "cell_type": "code",
   "execution_count": null,
   "id": "36cb60e5",
   "metadata": {},
   "outputs": [],
   "source": []
  },
  {
   "cell_type": "markdown",
   "id": "673b4439",
   "metadata": {},
   "source": [
    "## Tambah Fitur Statistik"
   ]
  },
  {
   "cell_type": "code",
   "execution_count": null,
   "id": "96df40bc",
   "metadata": {},
   "outputs": [],
   "source": []
  },
  {
   "cell_type": "markdown",
   "id": "50f9fa55",
   "metadata": {},
   "source": [
    "# 🏗️ Model Development (Compliance Focus)"
   ]
  },
  {
   "cell_type": "markdown",
   "id": "f1518bd5",
   "metadata": {},
   "source": [
    "## Bangun Model TensorFlow (tanpa API luar)"
   ]
  },
  {
   "cell_type": "code",
   "execution_count": null,
   "id": "c36051eb",
   "metadata": {},
   "outputs": [],
   "source": []
  },
  {
   "cell_type": "markdown",
   "id": "fb426500",
   "metadata": {},
   "source": [
    "## PCA (jika diperlukan)"
   ]
  },
  {
   "cell_type": "code",
   "execution_count": null,
   "id": "35fc9a46",
   "metadata": {},
   "outputs": [],
   "source": []
  },
  {
   "cell_type": "markdown",
   "id": "cce72122",
   "metadata": {},
   "source": [
    "## Cross Validation"
   ]
  },
  {
   "cell_type": "code",
   "execution_count": null,
   "id": "7acb9bb6",
   "metadata": {},
   "outputs": [],
   "source": []
  },
  {
   "cell_type": "markdown",
   "id": "8da70414",
   "metadata": {},
   "source": [
    "## Simpan Model"
   ]
  },
  {
   "cell_type": "code",
   "execution_count": null,
   "id": "3594fe87",
   "metadata": {},
   "outputs": [],
   "source": []
  },
  {
   "cell_type": "markdown",
   "id": "cb94f9cc",
   "metadata": {},
   "source": [
    "# 🧪 Evaluation"
   ]
  },
  {
   "cell_type": "markdown",
   "id": "024752bf",
   "metadata": {},
   "source": [
    "## Evaluasi dengan MAE, RMSE, R²"
   ]
  },
  {
   "cell_type": "code",
   "execution_count": null,
   "id": "10da0100",
   "metadata": {},
   "outputs": [],
   "source": []
  },
  {
   "cell_type": "markdown",
   "id": "2526ab99",
   "metadata": {},
   "source": [
    "## Visualisasi Prediksi vs Nilai Asli"
   ]
  },
  {
   "cell_type": "code",
   "execution_count": null,
   "id": "09e029a2",
   "metadata": {},
   "outputs": [],
   "source": []
  },
  {
   "cell_type": "markdown",
   "id": "a3ccb2a6",
   "metadata": {},
   "source": [
    "# 🚀 Inference & Integration"
   ]
  },
  {
   "cell_type": "markdown",
   "id": "5016555d",
   "metadata": {},
   "source": [
    "## Kode Inference Sederhana"
   ]
  },
  {
   "cell_type": "code",
   "execution_count": null,
   "id": "be178c2e",
   "metadata": {},
   "outputs": [],
   "source": []
  },
  {
   "cell_type": "markdown",
   "id": "3ebf04d7",
   "metadata": {},
   "source": [
    "## Integrasi ke UI atau API"
   ]
  },
  {
   "cell_type": "code",
   "execution_count": null,
   "id": "a415225d",
   "metadata": {},
   "outputs": [],
   "source": []
  }
 ],
 "metadata": {
  "kernelspec": {
   "display_name": "Python 3",
   "language": "python",
   "name": "python3"
  },
  "language_info": {
   "codemirror_mode": {
    "name": "ipython",
    "version": 3
   },
   "file_extension": ".py",
   "mimetype": "text/x-python",
   "name": "python",
   "nbconvert_exporter": "python",
   "pygments_lexer": "ipython3",
   "version": "3.11.1"
  }
 },
 "nbformat": 4,
 "nbformat_minor": 5
}
