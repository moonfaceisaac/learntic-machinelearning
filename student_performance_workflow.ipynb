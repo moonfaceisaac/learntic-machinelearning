{
 "cells": [
  {
   "cell_type": "markdown",
   "id": "1f7ea603",
   "metadata": {},
   "source": [
    "## Import Library"
   ]
  },
  {
   "cell_type": "code",
   "execution_count": 1,
   "id": "30bd7723",
   "metadata": {},
   "outputs": [],
   "source": [
    "import pandas as pd\n",
    "import numpy as np\n",
    "import matplotlib.pyplot as plt\n",
    "import seaborn as sns"
   ]
  },
  {
   "cell_type": "markdown",
   "id": "cee96d99",
   "metadata": {},
   "source": [
    "## Making Dummy Data"
   ]
  },
  {
   "cell_type": "code",
   "execution_count": 2,
   "id": "7be79ed4",
   "metadata": {},
   "outputs": [],
   "source": [
    "# np.random.seed(42)\n",
    "\n",
    "# # daftar subjek\n",
    "# subjects = [\n",
    "#     \"Pendidikan Agama\", \"Pendidikan Pancasila\", \"Bahasa Inggris\", \"Bahasa Mandarin\",\n",
    "#     \"Matematika (Umum)\", \"Biologi\", \"Fisika\", \"Kimia\", \"Geografi\", \"Sejarah\",\n",
    "#     \"Sosiologi\", \"Ekonomi\", \"Pendidikan Jasmani, Olahraga, dan Kesehatan\",\n",
    "#     \"Informatika\", \"Seni Musik\", \"Bahasa Indonesia\"\n",
    "# ]\n",
    "\n",
    "# # students yang bakal di generate\n",
    "# n_students = 1000\n",
    "\n",
    "# # Simulasi semester sekarang\n",
    "# low_count = int(0.2 * n_students)\n",
    "# mid_count = int(0.5 * n_students)\n",
    "# high_count = n_students - low_count - mid_count\n",
    "\n",
    "# low_avg = np.random.normal(loc=60, scale=5, size=low_count)\n",
    "# mid_avg = np.random.normal(loc=75, scale=5, size=mid_count)\n",
    "# high_avg = np.random.normal(loc=90, scale=5, size=high_count)\n",
    "\n",
    "# base_averages = np.concatenate([low_avg, mid_avg, high_avg])\n",
    "# base_averages = np.clip(base_averages, 0, 100)\n",
    "\n",
    "# # Simulasi skor subjek per murid\n",
    "# grades_current = np.array([\n",
    "#     base + np.random.normal(loc=0, scale=5, size=len(subjects))\n",
    "#     for base in base_averages\n",
    "# ])\n",
    "# grades_current = np.clip(grades_current, 0, 100)\n",
    "\n",
    "# # dataframe\n",
    "# df = pd.DataFrame(grades_current, columns=subjects)\n",
    "# df['Rata-rata'] = df.mean(axis=1)\n",
    "\n",
    "# # Mask\n",
    "# low_mask = df['Rata-rata'] < 70\n",
    "# mid_mask = (df['Rata-rata'] >= 70) & (df['Rata-rata'] < 85)\n",
    "# high_mask = df['Rata-rata'] >= 85\n",
    "\n",
    "\n",
    "# df_next_sem = df[subjects].copy()\n",
    "\n",
    "# def add_noise(data, loc=0, scale=5):\n",
    "#     return np.clip(data + np.random.normal(loc=loc, scale=scale, size=data.shape), 0, 100)\n",
    "\n",
    "# # Low performers\n",
    "# indices = df[low_mask].index.to_numpy()\n",
    "# np.random.shuffle(indices)\n",
    "# n = len(indices)\n",
    "# df_next_sem.loc[indices[:int(0.7 * n)]] = add_noise(df_next_sem.loc[indices[:int(0.7 * n)]], loc=5, scale=4)\n",
    "# df_next_sem.loc[indices[int(0.7 * n):int(0.9 * n)]] = add_noise(df_next_sem.loc[indices[int(0.7 * n):int(0.9 * n)]], loc=0, scale=3)\n",
    "# df_next_sem.loc[indices[int(0.9 * n):]] = add_noise(df_next_sem.loc[indices[int(0.9 * n):]], loc=15, scale=5)\n",
    "\n",
    "# # Mid performers\n",
    "# indices = df[mid_mask].index.to_numpy()\n",
    "# np.random.shuffle(indices)\n",
    "# n = len(indices)\n",
    "# df_next_sem.loc[indices[:int(0.6 * n)]] = add_noise(df_next_sem.loc[indices[:int(0.6 * n)]], loc=0, scale=3)\n",
    "# df_next_sem.loc[indices[int(0.6 * n):int(0.9 * n)]] = add_noise(df_next_sem.loc[indices[int(0.6 * n):int(0.9 * n)]], loc=5, scale=4)\n",
    "# df_next_sem.loc[indices[int(0.9 * n):]] = add_noise(df_next_sem.loc[indices[int(0.9 * n):]], loc=-7, scale=5)\n",
    "\n",
    "# # High performers\n",
    "# indices = df[high_mask].index.to_numpy()\n",
    "# np.random.shuffle(indices)\n",
    "# n = len(indices)\n",
    "# df_next_sem.loc[indices[:int(0.8 * n)]] = add_noise(df_next_sem.loc[indices[:int(0.8 * n)]], loc=-3, scale=3)\n",
    "# df_next_sem.loc[indices[int(0.8 * n):]] = add_noise(df_next_sem.loc[indices[int(0.8 * n):]], loc=0, scale=2)\n",
    "\n",
    "# # pembulatan dan pergantian nama df\n",
    "# df_next_sem = df_next_sem.round().astype(int)\n",
    "# df_next_sem.columns = [col + \" (Next Sem)\" for col in df_next_sem.columns]\n",
    "\n",
    "# # kombinasi\n",
    "# df_final = pd.concat([df, df_next_sem], axis=1)\n",
    "# df_final['Rata-rata (Next Sem)'] = df_next_sem.mean(axis=1).round(2)\n",
    "\n",
    "\n",
    "# print(df_final.head())\n",
    "\n",
    "# Re-import necessary modules after code execution environment reset\n",
    "\n",
    "\n",
    "np.random.seed(42)\n",
    "\n",
    "# daftar subjek\n",
    "subjects = [\n",
    "    \"Pendidikan Agama\", \"Pendidikan Pancasila\", \"Bahasa Inggris\", \"Bahasa Mandarin\",\n",
    "    \"Matematika (Umum)\", \"Biologi\", \"Fisika\", \"Kimia\", \"Geografi\", \"Sejarah\",\n",
    "    \"Sosiologi\", \"Ekonomi\", \"Pendidikan Jasmani, Olahraga, dan Kesehatan\",\n",
    "    \"Informatika\", \"Seni Musik\", \"Bahasa Indonesia\"\n",
    "]\n",
    "\n",
    "# students yang bakal di generate\n",
    "n_students = 1000\n",
    "\n",
    "# Simulasi semester sekarang\n",
    "low_count = int(0.2 * n_students)\n",
    "mid_count = int(0.5 * n_students)\n",
    "high_count = n_students - low_count - mid_count\n",
    "\n",
    "low_avg = np.random.normal(loc=60, scale=5, size=low_count)\n",
    "mid_avg = np.random.normal(loc=75, scale=5, size=mid_count)\n",
    "high_avg = np.random.normal(loc=90, scale=5, size=high_count)\n",
    "\n",
    "base_averages = np.concatenate([low_avg, mid_avg, high_avg])\n",
    "base_averages = np.clip(base_averages, 0, 100)\n",
    "\n",
    "# Simulasi skor subjek per murid\n",
    "grades_current = np.array([\n",
    "    base + np.random.normal(loc=0, scale=5, size=len(subjects))\n",
    "    for base in base_averages\n",
    "])\n",
    "grades_current = np.clip(grades_current, 0, 100)\n",
    "\n",
    "# dataframe\n",
    "df = pd.DataFrame(grades_current, columns=subjects)\n",
    "df['Rata-rata'] = df.mean(axis=1)\n",
    "\n",
    "# Mask\n",
    "low_mask = df['Rata-rata'] < 70\n",
    "mid_mask = (df['Rata-rata'] >= 70) & (df['Rata-rata'] < 85)\n",
    "high_mask = df['Rata-rata'] >= 85\n",
    "\n",
    "df_next_sem = df[subjects].copy()\n",
    "\n",
    "def add_noise(data, loc=0, scale=5):\n",
    "    return np.clip(data + np.random.normal(loc=loc, scale=scale, size=data.shape), 0, 100)\n",
    "\n",
    "# Low performers\n",
    "indices = df[low_mask].index.to_numpy()\n",
    "np.random.shuffle(indices)\n",
    "n = len(indices)\n",
    "df_next_sem.loc[indices[:int(0.5 * n)]] = add_noise(df_next_sem.loc[indices[:int(0.5 * n)]], loc=0, scale=3)\n",
    "df_next_sem.loc[indices[int(0.5 * n):int(0.9 * n)]] = add_noise(df_next_sem.loc[indices[int(0.5 * n):int(0.9 * n)]], loc=5, scale=4)\n",
    "df_next_sem.loc[indices[int(0.9 * n):]] = add_noise(df_next_sem.loc[indices[int(0.9 * n):]], loc=10, scale=5)\n",
    "\n",
    "# Mid performers\n",
    "indices = df[mid_mask].index.to_numpy()\n",
    "np.random.shuffle(indices)\n",
    "n = len(indices)\n",
    "df_next_sem.loc[indices[:int(0.6 * n)]] = add_noise(df_next_sem.loc[indices[:int(0.6 * n)]], loc=0, scale=3)\n",
    "df_next_sem.loc[indices[int(0.6 * n):int(0.9 * n)]] = add_noise(df_next_sem.loc[indices[int(0.6 * n):int(0.9 * n)]], loc=5, scale=4)\n",
    "df_next_sem.loc[indices[int(0.9 * n):]] = add_noise(df_next_sem.loc[indices[int(0.9 * n):]], loc=-7, scale=5)\n",
    "\n",
    "# High performers\n",
    "indices = df[high_mask].index.to_numpy()\n",
    "np.random.shuffle(indices)\n",
    "n = len(indices)\n",
    "df_next_sem.loc[indices[:int(0.8 * n)]] = add_noise(df_next_sem.loc[indices[:int(0.8 * n)]], loc=-3, scale=3)\n",
    "df_next_sem.loc[indices[int(0.8 * n):]] = add_noise(df_next_sem.loc[indices[int(0.8 * n):]], loc=3, scale=2)\n",
    "\n",
    "# pembulatan dan pergantian nama df\n",
    "df_next_sem = df_next_sem.round().astype(int)\n",
    "df_next_sem.columns = [col + \" (Next Sem)\" for col in df_next_sem.columns]\n",
    "\n",
    "# kombinasi\n",
    "df_final = pd.concat([df, df_next_sem], axis=1)\n",
    "df_final['Rata-rata (Next Sem)'] = df_next_sem.mean(axis=1).round(2)\n",
    "\n",
    "# Kategori berdasarkan performa dan perubahan\n",
    "df_final['Kategori Performa'] = \"Unlabeled\"\n",
    "df_final.loc[low_mask, 'Kategori Performa'] = \"Low\"\n",
    "df_final.loc[mid_mask, 'Kategori Performa'] = \"Mid\"\n",
    "df_final.loc[high_mask, 'Kategori Performa'] = \"High\"\n",
    "\n",
    "# Kategori perubahan\n",
    "df_final['Kategori Performa (Next)'] = pd.cut(\n",
    "    df_final['Rata-rata (Next Sem)'],\n",
    "    bins=[-1, 70, 85, 100],\n",
    "    labels=[\"Low\", \"Mid\", \"High\"]\n",
    ")\n",
    "\n",
    "# Tambahkan jumlah ketidakhadiran berdasarkan kategori performa\n",
    "def generate_absences(current, future):\n",
    "    if current == \"Low\" and future == \"High\":\n",
    "        return np.random.randint(0, 4)\n",
    "    elif current == \"Low\" and future == \"Low\":\n",
    "        return np.random.randint(6, 12)\n",
    "    elif current == \"Mid\" and future == \"Mid\":\n",
    "        return np.random.randint(2, 6)\n",
    "    elif current == \"Mid\" and future == \"High\":\n",
    "        return np.random.randint(0, 6)\n",
    "    elif current == \"High\":\n",
    "        return np.random.randint(0, 4)\n",
    "    else:\n",
    "        return np.random.randint(1, 10)\n",
    "\n",
    "df_final['Jumlah Ketidakhadiran'] = df_final.apply(\n",
    "    lambda row: generate_absences(row['Kategori Performa'], row['Kategori Performa (Next)']),\n",
    "    axis=1\n",
    ")\n",
    "\n",
    "\n"
   ]
  },
  {
   "cell_type": "code",
   "execution_count": null,
   "id": "ed480a9d",
   "metadata": {},
   "outputs": [],
   "source": [
    "df_final.info()\n",
    "df_final.describe()"
   ]
  },
  {
   "cell_type": "code",
   "execution_count": null,
   "id": "011fd279",
   "metadata": {},
   "outputs": [],
   "source": [
    "df_final[['Kategori Performa', 'Kategori Performa (Next)', 'Jumlah Ketidakhadiran']].value_counts().head(10)"
   ]
  },
  {
   "cell_type": "code",
   "execution_count": null,
   "id": "75c47033",
   "metadata": {},
   "outputs": [],
   "source": [
    "# df_final['performance'] = df_final['Rata-rata'].apply(\n",
    "#     lambda x: 'low performer' if x < 70 else (\n",
    "#         'average performer' if 70 <= x < 85 else 'high performer'\n",
    "#     )\n",
    "# )\n"
   ]
  },
  {
   "cell_type": "code",
   "execution_count": null,
   "id": "30610105",
   "metadata": {},
   "outputs": [],
   "source": [
    "df_final.info()\n",
    "df_final['performance'].value_counts()"
   ]
  },
  {
   "cell_type": "code",
   "execution_count": null,
   "id": "73b12224",
   "metadata": {},
   "outputs": [],
   "source": [
    "conditions = [\n",
    "    df_final['Rata-rata'] > df_final['Rata-rata (Next Sem)'],\n",
    "    df_final['Rata-rata'] < df_final['Rata-rata (Next Sem)'],\n",
    "    df_final['Rata-rata'] == df_final['Rata-rata (Next Sem)']\n",
    "]\n",
    "\n",
    "choices = [\n",
    "    'decreased performance',\n",
    "    'increased performance',\n",
    "    'stable performance'\n",
    "]\n",
    "\n",
    "df_final['performance_trend'] = np.select(conditions, choices)"
   ]
  },
  {
   "cell_type": "code",
   "execution_count": 3,
   "id": "a21f2ef2",
   "metadata": {},
   "outputs": [],
   "source": [
    "# Calculate the performance difference\n",
    "df_final['performance_diff'] = df_final['Rata-rata (Next Sem)'] - df_final['Rata-rata']\n",
    "\n",
    "# Define thresholds for \"slight\" changes (adjust these as needed)\n",
    "slight_threshold = 3  # points\n",
    "significant_threshold = 10  # points\n",
    "\n",
    "conditions = [\n",
    "    # Decreased performance categories\n",
    "    (df_final['performance_diff'] <= -significant_threshold),\n",
    "    (df_final['performance_diff'] < 0) & (df_final['performance_diff'] > -significant_threshold),\n",
    "    \n",
    "    # Stable performance (small change window)\n",
    "    (abs(df_final['performance_diff']) <= 2),  # You can adjust this threshold\n",
    "    \n",
    "    # Increased performance categories\n",
    "    (df_final['performance_diff'] > 0) & (df_final['performance_diff'] <= significant_threshold),\n",
    "    (df_final['performance_diff'] > significant_threshold)\n",
    "]\n",
    "\n",
    "choices = [\n",
    "    'significantly decreased performance',\n",
    "    'slightly decreased performance',\n",
    "    'stable performance',\n",
    "    'slightly increased performance',\n",
    "    'significantly increased performance'\n",
    "]\n",
    "\n",
    "df_final['performance_trend'] = np.select(conditions, choices)\n",
    "\n",
    "# Optional: Add a column with the exact difference\n",
    "df_final['performance_change'] = df_final['Rata-rata (Next Sem)'] - df_final['Rata-rata']"
   ]
  },
  {
   "cell_type": "code",
   "execution_count": 6,
   "id": "5b045c01",
   "metadata": {},
   "outputs": [
    {
     "data": {
      "text/plain": [
       "Kategori Performa  Jumlah Ketidakhadiran  performance_trend                  \n",
       "High               0                      slightly decreased performance         65\n",
       "                   1                      slightly decreased performance         55\n",
       "                   3                      slightly decreased performance         55\n",
       "Mid                3                      slightly decreased performance         50\n",
       "High               2                      slightly decreased performance         42\n",
       "                                                                                 ..\n",
       "                   0                      stable performance                      1\n",
       "Mid                0                      stable performance                      1\n",
       "                   7                      significantly decreased performance     1\n",
       "Low                5                      stable performance                      1\n",
       "                   2                      stable performance                      1\n",
       "Name: count, Length: 66, dtype: int64"
      ]
     },
     "execution_count": 6,
     "metadata": {},
     "output_type": "execute_result"
    }
   ],
   "source": [
    "df_final[['Kategori Performa', 'Jumlah Ketidakhadiran','performance_trend']].value_counts()"
   ]
  },
  {
   "cell_type": "code",
   "execution_count": null,
   "id": "14f81f25",
   "metadata": {},
   "outputs": [],
   "source": [
    "df_final.info()\n",
    "df_final['performance_trend'].value_counts()"
   ]
  },
  {
   "cell_type": "code",
   "execution_count": null,
   "id": "79072ee1",
   "metadata": {},
   "outputs": [],
   "source": [
    "\n",
    "import matplotlib.pyplot as plt\n",
    "\n",
    "# Set up the figure\n",
    "plt.figure(figsize=(12, 6))\n",
    "\n",
    "# First subplot - performance distribution\n",
    "plt.subplot(1, 2, 1)\n",
    "df_final['Kategori Performa'].value_counts().plot(kind='bar', color=['#1f77b4', '#ff7f0e', '#2ca02c'])\n",
    "plt.title('Performance Distribution')\n",
    "plt.xlabel('Performance Category')\n",
    "plt.ylabel('Count')\n",
    "plt.xticks(rotation=45)\n",
    "\n",
    "# Second subplot - performance_final distribution\n",
    "plt.subplot(1, 2, 2)\n",
    "df_final['performance_trend'].value_counts().plot(kind='bar', color=['#d62728', '#9467bd', '#8c564b'])\n",
    "plt.title('Performance Trend Distribution')\n",
    "plt.xlabel('Performance Trend Category')\n",
    "plt.ylabel('Count')\n",
    "plt.xticks(rotation=45)\n",
    "\n",
    "plt.tight_layout()\n",
    "plt.show()"
   ]
  },
  {
   "cell_type": "code",
   "execution_count": null,
   "id": "ecb7b884",
   "metadata": {},
   "outputs": [],
   "source": [
    "import seaborn as sns\n",
    "\n",
    "\n",
    "# Create cross-tabulation\n",
    "cross_tab = pd.crosstab(df_final['Kategori Performa'], df_final['performance_trend'])\n",
    "\n",
    "# Plot heatmap\n",
    "plt.figure(figsize=(10, 6))\n",
    "sns.heatmap(cross_tab, annot=True, fmt='d', cmap='YlGnBu', linewidths=.5)\n",
    "plt.title('Relationship Between Performance and Performance Trends')\n",
    "plt.xlabel('Performance Trend')\n",
    "plt.ylabel('Performance')\n",
    "plt.show()\n",
    "# Create cross-tab with values as sum of absences\n"
   ]
  },
  {
   "cell_type": "code",
   "execution_count": null,
   "id": "b73878f3",
   "metadata": {},
   "outputs": [],
   "source": [
    "cross_tab = pd.crosstab(\n",
    "    index=df_final['Kategori Performa'],\n",
    "    columns=df_final['performance_trend'],\n",
    "    values=df_final['Jumlah Ketidakhadiran'],\n",
    "    aggfunc='sum'\n",
    ")\n",
    "\n",
    "# Plot heatmap\n",
    "plt.figure(figsize=(10, 6))\n",
    "sns.heatmap(cross_tab, annot=True, fmt='g', cmap='YlGnBu', linewidths=.5)\n",
    "plt.title('Total Absences by Performance and Trend Categories')\n",
    "plt.xlabel('Performance Trend')\n",
    "plt.ylabel('Performance Category')\n",
    "plt.show()"
   ]
  },
  {
   "cell_type": "code",
   "execution_count": null,
   "id": "3a366b8b",
   "metadata": {},
   "outputs": [],
   "source": [
    "# Plot grouped bars\n",
    "cross_tab.plot(kind='bar', figsize=(12, 6), colormap='viridis')\n",
    "plt.title('Performance Categories by Trend Status')\n",
    "plt.xlabel('Performance Level')\n",
    "plt.ylabel('Count')\n",
    "plt.xticks(rotation=45)\n",
    "plt.legend(title='Performance Final')\n",
    "plt.show()"
   ]
  },
  {
   "cell_type": "code",
   "execution_count": null,
   "id": "b13bc0b9",
   "metadata": {},
   "outputs": [],
   "source": [
    "df_final.to_csv('daftar_nilai_revised.csv', index=False)"
   ]
  },
  {
   "cell_type": "markdown",
   "id": "e99db250",
   "metadata": {},
   "source": [
    "## Tambah Kasus yang bervariasi\n",
    "_Tambah siswa dengan nilai sangat rendah,etc."
   ]
  },
  {
   "cell_type": "code",
   "execution_count": null,
   "id": "671caff6",
   "metadata": {},
   "outputs": [],
   "source": []
  },
  {
   "cell_type": "markdown",
   "id": "79f06a7d",
   "metadata": {},
   "source": [
    "## Tambah Kolom Absensi"
   ]
  },
  {
   "cell_type": "code",
   "execution_count": null,
   "id": "9ce97ac6",
   "metadata": {},
   "outputs": [],
   "source": [
    "# # Re-import necessary modules after code execution environment reset\n",
    "# import pandas as pd\n",
    "# import numpy as np\n",
    "\n",
    "# np.random.seed(42)\n",
    "\n",
    "# # daftar subjek\n",
    "# subjects = [\n",
    "#     \"Pendidikan Agama\", \"Pendidikan Pancasila\", \"Bahasa Inggris\", \"Bahasa Mandarin\",\n",
    "#     \"Matematika (Umum)\", \"Biologi\", \"Fisika\", \"Kimia\", \"Geografi\", \"Sejarah\",\n",
    "#     \"Sosiologi\", \"Ekonomi\", \"Pendidikan Jasmani, Olahraga, dan Kesehatan\",\n",
    "#     \"Informatika\", \"Seni Musik\", \"Bahasa Indonesia\"\n",
    "# ]\n",
    "\n",
    "# # students yang bakal di generate\n",
    "# n_students = 1000\n",
    "\n",
    "# # Simulasi semester sekarang\n",
    "# low_count = int(0.2 * n_students)\n",
    "# mid_count = int(0.5 * n_students)\n",
    "# high_count = n_students - low_count - mid_count\n",
    "\n",
    "# low_avg = np.random.normal(loc=60, scale=5, size=low_count)\n",
    "# mid_avg = np.random.normal(loc=75, scale=5, size=mid_count)\n",
    "# high_avg = np.random.normal(loc=90, scale=5, size=high_count)\n",
    "\n",
    "# base_averages = np.concatenate([low_avg, mid_avg, high_avg])\n",
    "# base_averages = np.clip(base_averages, 0, 100)\n",
    "\n",
    "# # Simulasi skor subjek per murid\n",
    "# grades_current = np.array([\n",
    "#     base + np.random.normal(loc=0, scale=5, size=len(subjects))\n",
    "#     for base in base_averages\n",
    "# ])\n",
    "# grades_current = np.clip(grades_current, 0, 100)\n",
    "\n",
    "# # dataframe\n",
    "# df = pd.DataFrame(grades_current, columns=subjects)\n",
    "# df['Rata-rata'] = df.mean(axis=1)\n",
    "\n",
    "# # Mask\n",
    "# low_mask = df['Rata-rata'] < 70\n",
    "# mid_mask = (df['Rata-rata'] >= 70) & (df['Rata-rata'] < 85)\n",
    "# high_mask = df['Rata-rata'] >= 85\n",
    "\n",
    "# df_next_sem = df[subjects].copy()\n",
    "\n",
    "# def add_noise(data, loc=0, scale=5):\n",
    "#     return np.clip(data + np.random.normal(loc=loc, scale=scale, size=data.shape), 0, 100)\n",
    "\n",
    "# # Low performers\n",
    "# indices = df[low_mask].index.to_numpy()\n",
    "# np.random.shuffle(indices)\n",
    "# n = len(indices)\n",
    "# df_next_sem.loc[indices[:int(0.7 * n)]] = add_noise(df_next_sem.loc[indices[:int(0.7 * n)]], loc=5, scale=4)\n",
    "# df_next_sem.loc[indices[int(0.7 * n):int(0.9 * n)]] = add_noise(df_next_sem.loc[indices[int(0.7 * n):int(0.9 * n)]], loc=0, scale=3)\n",
    "# df_next_sem.loc[indices[int(0.9 * n):]] = add_noise(df_next_sem.loc[indices[int(0.9 * n):]], loc=15, scale=5)\n",
    "\n",
    "# # Mid performers\n",
    "# indices = df[mid_mask].index.to_numpy()\n",
    "# np.random.shuffle(indices)\n",
    "# n = len(indices)\n",
    "# df_next_sem.loc[indices[:int(0.6 * n)]] = add_noise(df_next_sem.loc[indices[:int(0.6 * n)]], loc=0, scale=3)\n",
    "# df_next_sem.loc[indices[int(0.6 * n):int(0.9 * n)]] = add_noise(df_next_sem.loc[indices[int(0.6 * n):int(0.9 * n)]], loc=5, scale=4)\n",
    "# df_next_sem.loc[indices[int(0.9 * n):]] = add_noise(df_next_sem.loc[indices[int(0.9 * n):]], loc=-7, scale=5)\n",
    "\n",
    "# # High performers\n",
    "# indices = df[high_mask].index.to_numpy()\n",
    "# np.random.shuffle(indices)\n",
    "# n = len(indices)\n",
    "# df_next_sem.loc[indices[:int(0.8 * n)]] = add_noise(df_next_sem.loc[indices[:int(0.8 * n)]], loc=-3, scale=3)\n",
    "# df_next_sem.loc[indices[int(0.8 * n):]] = add_noise(df_next_sem.loc[indices[int(0.8 * n):]], loc=0, scale=2)\n",
    "\n",
    "# # pembulatan dan pergantian nama df\n",
    "# df_next_sem = df_next_sem.round().astype(int)\n",
    "# df_next_sem.columns = [col + \" (Next Sem)\" for col in df_next_sem.columns]\n",
    "\n",
    "# # kombinasi\n",
    "# df_final = pd.concat([df, df_next_sem], axis=1)\n",
    "# df_final['Rata-rata (Next Sem)'] = df_next_sem.mean(axis=1).round(2)\n",
    "\n",
    "# # Kategori berdasarkan performa dan perubahan\n",
    "# df_final['Kategori Performa'] = \"Unlabeled\"\n",
    "# df_final.loc[low_mask, 'Kategori Performa'] = \"Low\"\n",
    "# df_final.loc[mid_mask, 'Kategori Performa'] = \"Mid\"\n",
    "# df_final.loc[high_mask, 'Kategori Performa'] = \"High\"\n",
    "\n",
    "# # Kategori perubahan\n",
    "# df_final['Kategori Performa (Next)'] = pd.cut(\n",
    "#     df_final['Rata-rata (Next Sem)'],\n",
    "#     bins=[-1, 70, 85, 100],\n",
    "#     labels=[\"Low\", \"Mid\", \"High\"]\n",
    "# )\n",
    "\n",
    "# # Tambahkan jumlah ketidakhadiran berdasarkan kategori performa\n",
    "# def generate_absences(current, future):\n",
    "#     if current == \"Low\" and future == \"High\":\n",
    "#         return np.random.randint(0, 4)\n",
    "#     elif current == \"Low\" and future == \"Low\":\n",
    "#         return np.random.randint(7, 16)\n",
    "#     elif current == \"Mid\" and future == \"Mid\":\n",
    "#         return np.random.randint(2, 9)\n",
    "#     elif current == \"Mid\" and future == \"High\":\n",
    "#         return np.random.randint(0, 7)\n",
    "#     elif current == \"High\":\n",
    "#         return np.random.randint(0, 5)\n",
    "#     else:\n",
    "#         return np.random.randint(1, 10)\n",
    "\n",
    "# df_final['Jumlah Ketidakhadiran'] = df_final.apply(\n",
    "#     lambda row: generate_absences(row['Kategori Performa'], row['Kategori Performa (Next)']),\n",
    "#     axis=1\n",
    "# )\n",
    "\n",
    "# df_final[['Kategori Performa', 'Kategori Performa (Next)', 'Jumlah Ketidakhadiran']].value_counts().head(10)\n"
   ]
  },
  {
   "cell_type": "markdown",
   "id": "cdf6e5b3",
   "metadata": {},
   "source": [
    "## Hapus Kolom Tidak Digunakan"
   ]
  },
  {
   "cell_type": "code",
   "execution_count": null,
   "id": "22c245ad",
   "metadata": {},
   "outputs": [],
   "source": [
    "# More realistic subject correlations\n",
    "stem_subjects = [\"Matematika (Umum)\", \"Biologi\", \"Fisika\", \"Kimia\"]\n",
    "language_subjects = [\"Bahasa Indonesia\", \"Bahasa Inggris\", \"Bahasa Mandarin\"]\n",
    "# Apply different correlation patterns\n",
    "\n",
    "# More conservative improvement ranges\n",
    "# Low performers: +2 to +8 instead of +15\n",
    "# High performers: -1 to +2 instead of -3"
   ]
  },
  {
   "cell_type": "markdown",
   "id": "2768c2a1",
   "metadata": {},
   "source": [
    "## Splitting Data"
   ]
  },
  {
   "cell_type": "code",
   "execution_count": null,
   "id": "945018f0",
   "metadata": {},
   "outputs": [],
   "source": []
  },
  {
   "cell_type": "markdown",
   "id": "5773168a",
   "metadata": {},
   "source": [
    "# 🧠 Feature Engineering"
   ]
  },
  {
   "cell_type": "markdown",
   "id": "8a25e201",
   "metadata": {},
   "source": [
    "## Hitung Nilai Rata-rata per Siswa"
   ]
  },
  {
   "cell_type": "code",
   "execution_count": null,
   "id": "3d7912c6",
   "metadata": {},
   "outputs": [],
   "source": []
  },
  {
   "cell_type": "markdown",
   "id": "908d9e76",
   "metadata": {},
   "source": [
    "## Normalisasi Nilai"
   ]
  },
  {
   "cell_type": "code",
   "execution_count": null,
   "id": "3a230ec4",
   "metadata": {},
   "outputs": [],
   "source": []
  },
  {
   "cell_type": "markdown",
   "id": "162b8971",
   "metadata": {},
   "source": [
    "## Tambah Fitur Tren Peningkatan/Penurunan Nilai"
   ]
  },
  {
   "cell_type": "code",
   "execution_count": null,
   "id": "36cb60e5",
   "metadata": {},
   "outputs": [],
   "source": []
  },
  {
   "cell_type": "markdown",
   "id": "673b4439",
   "metadata": {},
   "source": [
    "## Tambah Fitur Statistik"
   ]
  },
  {
   "cell_type": "code",
   "execution_count": null,
   "id": "96df40bc",
   "metadata": {},
   "outputs": [],
   "source": []
  },
  {
   "cell_type": "markdown",
   "id": "50f9fa55",
   "metadata": {},
   "source": [
    "# 🏗️ Model Development (Compliance Focus)"
   ]
  },
  {
   "cell_type": "markdown",
   "id": "f1518bd5",
   "metadata": {},
   "source": [
    "## Bangun Model TensorFlow (tanpa API luar)"
   ]
  },
  {
   "cell_type": "code",
   "execution_count": null,
   "id": "c36051eb",
   "metadata": {},
   "outputs": [],
   "source": []
  },
  {
   "cell_type": "markdown",
   "id": "fb426500",
   "metadata": {},
   "source": [
    "## PCA (jika diperlukan)"
   ]
  },
  {
   "cell_type": "code",
   "execution_count": null,
   "id": "35fc9a46",
   "metadata": {},
   "outputs": [],
   "source": []
  },
  {
   "cell_type": "markdown",
   "id": "cce72122",
   "metadata": {},
   "source": [
    "## Cross Validation"
   ]
  },
  {
   "cell_type": "code",
   "execution_count": null,
   "id": "7acb9bb6",
   "metadata": {},
   "outputs": [],
   "source": []
  },
  {
   "cell_type": "markdown",
   "id": "8da70414",
   "metadata": {},
   "source": [
    "## Simpan Model"
   ]
  },
  {
   "cell_type": "code",
   "execution_count": null,
   "id": "3594fe87",
   "metadata": {},
   "outputs": [],
   "source": []
  },
  {
   "cell_type": "markdown",
   "id": "cb94f9cc",
   "metadata": {},
   "source": [
    "# 🧪 Evaluation"
   ]
  },
  {
   "cell_type": "markdown",
   "id": "024752bf",
   "metadata": {},
   "source": [
    "## Evaluasi dengan MAE, RMSE, R²"
   ]
  },
  {
   "cell_type": "code",
   "execution_count": null,
   "id": "10da0100",
   "metadata": {},
   "outputs": [],
   "source": []
  },
  {
   "cell_type": "markdown",
   "id": "2526ab99",
   "metadata": {},
   "source": [
    "## Visualisasi Prediksi vs Nilai Asli"
   ]
  },
  {
   "cell_type": "code",
   "execution_count": null,
   "id": "09e029a2",
   "metadata": {},
   "outputs": [],
   "source": []
  },
  {
   "cell_type": "markdown",
   "id": "a3ccb2a6",
   "metadata": {},
   "source": [
    "# 🚀 Inference & Integration"
   ]
  },
  {
   "cell_type": "markdown",
   "id": "5016555d",
   "metadata": {},
   "source": [
    "## Kode Inference Sederhana"
   ]
  },
  {
   "cell_type": "code",
   "execution_count": null,
   "id": "be178c2e",
   "metadata": {},
   "outputs": [],
   "source": []
  },
  {
   "cell_type": "markdown",
   "id": "3ebf04d7",
   "metadata": {},
   "source": [
    "## Integrasi ke UI atau API"
   ]
  },
  {
   "cell_type": "code",
   "execution_count": null,
   "id": "a415225d",
   "metadata": {},
   "outputs": [],
   "source": []
  }
 ],
 "metadata": {
  "kernelspec": {
   "display_name": "Python 3",
   "language": "python",
   "name": "python3"
  },
  "language_info": {
   "codemirror_mode": {
    "name": "ipython",
    "version": 3
   },
   "file_extension": ".py",
   "mimetype": "text/x-python",
   "name": "python",
   "nbconvert_exporter": "python",
   "pygments_lexer": "ipython3",
   "version": "3.11.1"
  }
 },
 "nbformat": 4,
 "nbformat_minor": 5
}
